{
 "cells": [
  {
   "cell_type": "markdown",
   "id": "fea6dff5-6c70-4f3a-bc62-eb518512e5cc",
   "metadata": {},
   "source": [
    "## Urbanization Vs PM 2.5 (eg, 2016)"
   ]
  },
  {
   "cell_type": "code",
   "execution_count": 1,
   "id": "b3c0e78a-49ce-4ece-9db4-9cba1c792de7",
   "metadata": {},
   "outputs": [
    {
     "ename": "SyntaxError",
     "evalue": "invalid syntax (381863025.py, line 6)",
     "output_type": "error",
     "traceback": [
      "\u001b[0;36m  Cell \u001b[0;32mIn[1], line 6\u001b[0;36m\u001b[0m\n\u001b[0;31m    Step 1: Data Loading\u001b[0m\n\u001b[0m         ^\u001b[0m\n\u001b[0;31mSyntaxError\u001b[0m\u001b[0;31m:\u001b[0m invalid syntax\n"
     ]
    }
   ],
   "source": [
    "import pandas as pd\n",
    "import numpy as np\n",
    "import matplotlib.pyplot as plt\n",
    "import statsmodels.api as sm\n",
    "\n",
    "# Step 1: Data Loading\n",
    "# Load Urban.csv using default comma delimiter.\n",
    "urban = pd.read_csv(\"Urban.csv\", encoding=\"utf-8\")\n",
    "\n",
    "# Load Air quality.csv with automatic delimiter detection using the Python engine.\n",
    "air_quality = pd.read_csv(\"Air quality.csv\", sep=None, engine=\"python\", encoding=\"utf-8\", on_bad_lines=\"skip\")\n"
   ]
  },
  {
   "cell_type": "code",
   "execution_count": null,
   "id": "4ff3ba2c-0445-449d-b58b-8356ea80ab00",
   "metadata": {},
   "outputs": [],
   "source": [
    "# Choose the analysis year (e.g., 2016).\n",
    "selected_year = 2016"
   ]
  },
  {
   "cell_type": "code",
   "execution_count": null,
   "id": "8a09a675-1c3e-4a97-bd9c-b71429dfad11",
   "metadata": {},
   "outputs": [],
   "source": [
    "# See the first five rows of data\n",
    "urban.head()"
   ]
  },
  {
   "cell_type": "code",
   "execution_count": null,
   "id": "ec1777c5-f394-407f-a3a5-81e8d3a4b3b3",
   "metadata": {},
   "outputs": [],
   "source": [
    "air_quality.head()"
   ]
  },
  {
   "cell_type": "code",
   "execution_count": null,
   "id": "8406478e-15f5-4c37-a367-a24af4fd5e76",
   "metadata": {},
   "outputs": [],
   "source": [
    "print(urban.columns)"
   ]
  },
  {
   "cell_type": "code",
   "execution_count": null,
   "id": "6c2654ce-659c-4de8-9466-7069e17a78ed",
   "metadata": {},
   "outputs": [],
   "source": [
    "print(air_quality.columns)"
   ]
  },
  {
   "cell_type": "code",
   "execution_count": null,
   "id": "eb63d213-d653-4011-a790-ae18b2f25f81",
   "metadata": {},
   "outputs": [],
   "source": [
    "# Step 2: Data Preprocessing \n",
    "# Verify and convert \"Measurement Year\" to numeric.\n",
    "if \"Measurement Year\" not in air_quality.columns:\n",
    "    raise KeyError(\"The 'Measurement Year' column is missing in the air quality data.\")\n",
    "air_quality[\"Measurement Year\"] = pd.to_numeric(air_quality[\"Measurement Year\"], errors=\"coerce\")\n",
    "\n",
    "# Filter air quality data for the selected year.\n",
    "aq_year = air_quality[air_quality[\"Measurement Year\"] == selected_year]\n",
    "\n",
    "# Convert the selected year to a string for column lookup in the urban dataset.\n",
    "year_str = str(selected_year)\n",
    "\n",
    "# Extract the relevant year column from urban data and rename it to \"Urbanization\".\n",
    "if year_str not in urban.columns:\n",
    "    raise KeyError(f\"The '{year_str}' column is missing in the Urban data.\")\n",
    "urban_subset = urban[[\"Country Name\", year_str]].rename(columns={year_str: \"Urbanization\"})\n",
    "\n",
    "# Clean country names by stripping whitespace and converting to lower case.\n",
    "aq_year[\"WHO Country Name\"] = aq_year[\"WHO Country Name\"].str.strip().str.lower()\n",
    "urban_subset[\"Country Name\"] = urban_subset[\"Country Name\"].str.strip().str.lower()"
   ]
  },
  {
   "cell_type": "code",
   "execution_count": null,
   "id": "95938c1f-a95a-4b46-b09a-92da18a4249f",
   "metadata": {},
   "outputs": [],
   "source": [
    "# Step 3: Data Merging \n",
    "# Merge the two datasets on the country name.\n",
    "merged_df = pd.merge(\n",
    "    urban_subset,\n",
    "    aq_year[[\"WHO Country Name\", \"PM2.5 (μg/m3)\"]],\n",
    "    left_on=\"Country Name\",\n",
    "    right_on=\"WHO Country Name\",\n",
    "    how=\"inner\"\n",
    ").drop(columns=[\"WHO Country Name\"])\n",
    "\n",
    "# Preliminary check of the merged data.\n",
    "print(\"\\n--- Before Data Cleaning ---\")\n",
    "print(merged_df.info())\n",
    "print(merged_df.head())\n"
   ]
  },
  {
   "cell_type": "code",
   "execution_count": null,
   "id": "2579fa4f-8907-491d-8f76-46e8dc2d1c2c",
   "metadata": {},
   "outputs": [],
   "source": [
    "# Step 4: Data Cleaning \n",
    "# Convert \"Urbanization\" and \"PM2.5 (μg/m3)\" to numeric (non-numeric values become NaN).\n",
    "merged_df[\"Urbanization\"] = pd.to_numeric(merged_df[\"Urbanization\"], errors=\"coerce\")\n",
    "merged_df[\"PM2.5 (μg/m3)\"] = pd.to_numeric(merged_df[\"PM2.5 (μg/m3)\"], errors=\"coerce\")\n",
    "\n",
    "# Remove rows with missing (NaN) values in either column.\n",
    "merged_df = merged_df.dropna(subset=[\"Urbanization\", \"PM2.5 (μg/m3)\"])\n",
    "\n",
    "# Remove rows with infinite values.\n",
    "merged_df = merged_df[~merged_df.isin([np.inf, -np.inf]).any(axis=1)]\n",
    "\n",
    "# Filter out unrealistic values:\n",
    "# - Urbanization should be within 0 to 100 (as percentages).\n",
    "# - PM2.5 values should be non-negative.\n",
    "merged_df = merged_df[(merged_df[\"Urbanization\"] >= 0) & (merged_df[\"Urbanization\"] <= 100)]\n",
    "merged_df = merged_df[merged_df[\"PM2.5 (μg/m3)\"] >= 0]\n",
    "\n",
    "# Check the cleaned data.\n",
    "print(\"\\n--- After Data Cleaning ---\")\n",
    "print(merged_df.info())\n",
    "print(merged_df.describe())"
   ]
  },
  {
   "cell_type": "code",
   "execution_count": null,
   "id": "61b2780d-2bc6-48d7-85f6-a7300c444f26",
   "metadata": {},
   "outputs": [],
   "source": [
    "#Step 5: Data Analysis\n",
    "if merged_df.empty:\n",
    "    print(\"The merged dataset is empty after cleaning. Please review the cleaning rules or input data.\")\n",
    "else:\n",
    "    # Visualization: Scatter plot of Urbanization vs. PM2.5.\n",
    "    plt.figure(figsize=(8,6))\n",
    "    plt.scatter(merged_df[\"Urbanization\"], merged_df[\"PM2.5 (μg/m3)\"])\n",
    "    plt.xlabel(f\"Urbanization ({selected_year})\")\n",
    "    plt.ylabel(f\"PM2.5 (μg/m3) ({selected_year})\")\n",
    "    plt.title(f\"Urbanization vs. PM2.5 ({selected_year})\")\n",
    "    plt.grid(True)\n",
    "    plt.show()\n",
    "\n",
    "    # Calculate and print the Pearson correlation coefficient.\n",
    "    correlation = merged_df[\"Urbanization\"].corr(merged_df[\"PM2.5 (μg/m3)\"])\n",
    "    print(f\"Correlation between Urbanization and PM2.5 ({selected_year}): {correlation:.3f}\")\n",
    "\n",
    "    # OLS Regression Analysis: Predict PM2.5 using Urbanization.\n",
    "    X = sm.add_constant(merged_df[\"Urbanization\"])\n",
    "    y = merged_df[\"PM2.5 (μg/m3)\"]\n",
    "    model = sm.OLS(y, X).fit()\n",
    "\n",
    "    # Print the regression model summary.\n",
    "    print(\"\\nRegression Model Summary:\")\n",
    "    print(model.summary())"
   ]
  },
  {
   "cell_type": "markdown",
   "id": "3a236f86-3eac-48c0-b692-ea46b2748d2f",
   "metadata": {},
   "source": [
    "## Urbanization Vs NO2 (eg, 2016)"
   ]
  },
  {
   "cell_type": "code",
   "execution_count": null,
   "id": "848fd661-1e8b-4d72-819b-d66e0db0eb13",
   "metadata": {},
   "outputs": [],
   "source": [
    "# Step 3: Data Merging\n",
    "# Ensure the NO2 column exists in the air quality data\n",
    "if \"NO2 (μg/m3)\" not in aq_year.columns:\n",
    "    raise KeyError(\"The 'NO2 (μg/m3)' column is missing in the air quality data.\")\n",
    "\n",
    "# Merge datasets on matching country names\n",
    "merged_df = pd.merge(\n",
    "    urban_subset,\n",
    "    aq_year[[\"WHO Country Name\", \"NO2 (μg/m3)\"]],\n",
    "    left_on=\"Country Name\",\n",
    "    right_on=\"WHO Country Name\",\n",
    "    how=\"inner\"\n",
    ").drop(columns=[\"WHO Country Name\"])\n",
    "\n",
    "print(\"\\n--- Before Data Cleaning ---\")\n",
    "print(merged_df.info())\n",
    "print(merged_df.head())"
   ]
  },
  {
   "cell_type": "code",
   "execution_count": null,
   "id": "3c0b933f-8494-4079-919b-2f37d95f2674",
   "metadata": {},
   "outputs": [],
   "source": [
    "# Step 4: Data Cleaning\n",
    "# Convert \"Urbanization\" and \"NO2 (μg/m3)\" columns to numeric\n",
    "merged_df[\"Urbanization\"] = pd.to_numeric(merged_df[\"Urbanization\"], errors=\"coerce\")\n",
    "merged_df[\"NO2 (μg/m3)\"] = pd.to_numeric(merged_df[\"NO2 (μg/m3)\"], errors=\"coerce\")\n",
    "\n",
    "# Drop rows with missing values in either column\n",
    "merged_df = merged_df.dropna(subset=[\"Urbanization\", \"NO2 (μg/m3)\"])\n",
    "\n",
    "# Remove rows with infinite values\n",
    "merged_df = merged_df[~merged_df.isin([np.inf, -np.inf]).any(axis=1)]\n",
    "\n",
    "# Filter out unrealistic values:\n",
    "# - Urbanization should be between 0 and 100\n",
    "# - NO2 values should be non-negative\n",
    "merged_df = merged_df[(merged_df[\"Urbanization\"] >= 0) & (merged_df[\"Urbanization\"] <= 100)]\n",
    "merged_df = merged_df[merged_df[\"NO2 (μg/m3)\"] >= 0]\n",
    "\n",
    "print(\"\\n--- After Data Cleaning ---\")\n",
    "print(merged_df.info())\n",
    "print(merged_df.describe())\n"
   ]
  },
  {
   "cell_type": "code",
   "execution_count": null,
   "id": "0da19d45-0aa2-4c12-a6d6-90662084729b",
   "metadata": {},
   "outputs": [],
   "source": [
    "# Step 5: Data Analysis\n",
    "if merged_df.empty:\n",
    "    print(\"The cleaned merged dataset is empty. Please review the cleaning rules or input data.\")\n",
    "else:\n",
    "    # Visualization: Scatter plot of Urbanization vs. NO2\n",
    "    plt.figure(figsize=(8,6))\n",
    "    plt.scatter(merged_df[\"Urbanization\"], merged_df[\"NO2 (μg/m3)\"])\n",
    "    plt.xlabel(f\"Urbanization ({selected_year})\")\n",
    "    plt.ylabel(f\"NO2 (μg/m3) ({selected_year})\")\n",
    "    plt.title(f\"Urbanization vs. NO2 ({selected_year})\")\n",
    "    plt.grid(True)\n",
    "    plt.show()\n",
    "\n",
    "    # Compute and display the Pearson correlation coefficient\n",
    "    correlation = merged_df[\"Urbanization\"].corr(merged_df[\"NO2 (μg/m3)\"])\n",
    "    print(f\"Correlation between Urbanization and NO2 ({selected_year}): {correlation:.3f}\")\n",
    "\n",
    "    # OLS Regression Analysis: Predict NO2 using Urbanization\n",
    "    X = sm.add_constant(merged_df[\"Urbanization\"])\n",
    "    y = merged_df[\"NO2 (μg/m3)\"]\n",
    "    model = sm.OLS(y, X).fit()\n",
    "\n",
    "    # Print the regression model summary\n",
    "    print(\"\\nRegression Model Summary:\")\n",
    "    print(model.summary())"
   ]
  },
  {
   "cell_type": "markdown",
   "id": "b6745a9e-2b46-4347-a5ae-08beeff2ab8a",
   "metadata": {},
   "source": [
    "## Urbanization Vs PM10 (eg, 2016)"
   ]
  },
  {
   "cell_type": "code",
   "execution_count": null,
   "id": "69a53c30-1a3d-45a8-9828-af5208bbed65",
   "metadata": {},
   "outputs": [],
   "source": [
    "#Step 3: Data Merging\n",
    "# Ensure the PM10 column exists in the air quality data.\n",
    "if \"PM10 (μg/m3)\" not in aq_year.columns:\n",
    "    raise KeyError(\"The 'PM10 (μg/m3)' column is missing in the air quality data.\")\n",
    "\n",
    "# Merge the two datasets on matching country names.\n",
    "merged_df = pd.merge(\n",
    "    urban_subset,\n",
    "    aq_year[[\"WHO Country Name\", \"PM10 (μg/m3)\"]],\n",
    "    left_on=\"Country Name\",\n",
    "    right_on=\"WHO Country Name\",\n",
    "    how=\"inner\"\n",
    ").drop(columns=[\"WHO Country Name\"])\n",
    "\n",
    "print(\"\\n--- Before Data Cleaning ---\")\n",
    "print(merged_df.info())\n",
    "print(merged_df.head())\n"
   ]
  },
  {
   "cell_type": "code",
   "execution_count": null,
   "id": "efd540ff-bb1f-4df7-a8a5-6dacb60d9796",
   "metadata": {},
   "outputs": [],
   "source": [
    "# Step 4: Data Cleaning\n",
    "# Convert \"Urbanization\" and \"PM10 (μg/m3)\" to numeric (non-numeric values become NaN).\n",
    "merged_df[\"Urbanization\"] = pd.to_numeric(merged_df[\"Urbanization\"], errors=\"coerce\")\n",
    "merged_df[\"PM10 (μg/m3)\"] = pd.to_numeric(merged_df[\"PM10 (μg/m3)\"], errors=\"coerce\")\n",
    "\n",
    "# Remove rows with missing (NaN) values in either column.\n",
    "merged_df = merged_df.dropna(subset=[\"Urbanization\", \"PM10 (μg/m3)\"])\n",
    "\n",
    "# Remove rows with infinite values.\n",
    "merged_df = merged_df[~merged_df.isin([np.inf, -np.inf]).any(axis=1)]\n",
    "\n",
    "# Filter out unrealistic values:\n",
    "# - Urbanization should be within 0 to 100.\n",
    "# - PM10 should be non-negative.\n",
    "merged_df = merged_df[(merged_df[\"Urbanization\"] >= 0) & (merged_df[\"Urbanization\"] <= 100)]\n",
    "merged_df = merged_df[merged_df[\"PM10 (μg/m3)\"] >= 0]\n",
    "\n",
    "print(\"\\n--- After Data Cleaning ---\")\n",
    "print(merged_df.info())\n",
    "print(merged_df.describe())"
   ]
  },
  {
   "cell_type": "code",
   "execution_count": null,
   "id": "67429b01-739a-41ce-a6da-ae18d0895141",
   "metadata": {},
   "outputs": [],
   "source": [
    "# Step 5: Data Analysis\n",
    "if merged_df.empty:\n",
    "    print(\"The cleaned merged dataset is empty. Please review the cleaning rules or input data.\")\n",
    "else:\n",
    "    # Visualization: Scatter plot of Urbanization vs. PM10.\n",
    "    plt.figure(figsize=(8,6))\n",
    "    plt.scatter(merged_df[\"Urbanization\"], merged_df[\"PM10 (μg/m3)\"])\n",
    "    plt.xlabel(f\"Urbanization ({selected_year})\")\n",
    "    plt.ylabel(f\"PM10 (μg/m³) ({selected_year})\")\n",
    "    plt.title(f\"Urbanization vs. PM10 ({selected_year})\")\n",
    "    plt.grid(True)\n",
    "    plt.show()\n",
    "\n",
    "    # Compute and display the Pearson correlation coefficient.\n",
    "    correlation = merged_df[\"Urbanization\"].corr(merged_df[\"PM10 (μg/m3)\"])\n",
    "    print(f\"Correlation between Urbanization and PM10 ({selected_year}): {correlation:.3f}\")\n",
    "\n",
    "    # OLS Regression Analysis: Predict PM10 using Urbanization.\n",
    "    X = sm.add_constant(merged_df[\"Urbanization\"])\n",
    "    y = merged_df[\"PM10 (μg/m3)\"]\n",
    "    model = sm.OLS(y, X).fit()\n",
    "\n",
    "    # Print the regression model summary.\n",
    "    print(\"\\nRegression Model Summary:\")\n",
    "    print(model.summary())"
   ]
  },
  {
   "cell_type": "code",
   "execution_count": null,
   "id": "4d4058de-f01f-4d84-a68e-5171ddd8e53f",
   "metadata": {},
   "outputs": [],
   "source": []
  }
 ],
 "metadata": {
  "kernelspec": {
   "display_name": "Python 3 (ipykernel)",
   "language": "python",
   "name": "python3"
  },
  "language_info": {
   "codemirror_mode": {
    "name": "ipython",
    "version": 3
   },
   "file_extension": ".py",
   "mimetype": "text/x-python",
   "name": "python",
   "nbconvert_exporter": "python",
   "pygments_lexer": "ipython3",
   "version": "3.10.14"
  }
 },
 "nbformat": 4,
 "nbformat_minor": 5
}
